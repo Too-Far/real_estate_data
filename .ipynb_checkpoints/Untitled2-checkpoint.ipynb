{
 "cells": [
  {
   "cell_type": "markdown",
   "metadata": {},
   "source": [
    "# Data Selection\n",
    "The data was collected from the Orange County Property Appraiser's Office. The data includes home sales localized to the service areas of \"Bridgewater Middle School\" and \"Horizon West Middle School\". This localization was selected due to the fact that these middle schools are currently the feeder schools for the Horizon West area. \n",
    "\n",
    "As you can see below, these criterion provided 10,336 results with 31 columns. Our next task is to parse down the column count, as not all of the provided columns are needed for our purposes."
   ]
  },
  {
   "cell_type": "code",
   "execution_count": 1,
   "metadata": {},
   "outputs": [
    {
     "name": "stdout",
     "output_type": "stream",
     "text": [
      "<class 'pandas.core.frame.DataFrame'>\n",
      "RangeIndex: 10336 entries, 0 to 10335\n",
      "Data columns (total 31 columns):\n",
      "Parcel ID                  10336 non-null object\n",
      "Property Address           10336 non-null object\n",
      "Street Number              10336 non-null int64\n",
      "Street Direction           25 non-null object\n",
      "Street Name                10336 non-null object\n",
      "Street Type                10270 non-null object\n",
      "Unit Number                0 non-null float64\n",
      "Heated Area                10336 non-null int64\n",
      "Bedrooms                   10336 non-null int64\n",
      "Bathrooms                  10336 non-null float64\n",
      "Book                       0 non-null float64\n",
      "Page                       0 non-null float64\n",
      "Instrument Number          10336 non-null int64\n",
      "PID                        10336 non-null int64\n",
      "Link                       10336 non-null object\n",
      "Mailing Address 1          10336 non-null object\n",
      "Mailing Address 2          503 non-null object\n",
      "Mailing Address City       10336 non-null object\n",
      "Mailing Address State      10336 non-null object\n",
      "Mailing Address Zip        10213 non-null object\n",
      "Mailing Address Country    344 non-null object\n",
      "Buyer(s)                   10333 non-null object\n",
      "Seller(s)                  10326 non-null object\n",
      "Sale Amount                10336 non-null int64\n",
      "SaleDescriptionCode        10336 non-null int64\n",
      "SaleDescription            10336 non-null object\n",
      "Average Year Built         10336 non-null int64\n",
      "Date of Sale               10336 non-null object\n",
      "Property Use Code          10336 non-null int64\n",
      "Number of Buildings        10336 non-null int64\n",
      "Property Use Type          10336 non-null object\n",
      "dtypes: float64(4), int64(10), object(17)\n",
      "memory usage: 2.4+ MB\n"
     ]
    },
    {
     "data": {
      "text/plain": [
       "(10336, 31)"
      ]
     },
     "execution_count": 1,
     "metadata": {},
     "output_type": "execute_result"
    }
   ],
   "source": [
    "import pandas as pd\n",
    "from pandas import ExcelWriter\n",
    "from pandas import ExcelFile\n",
    "import matplotlib.pyplot as plt\n",
    "excel_file = 'data_sheet.xlsx'\n",
    "estate = pd.read_excel(excel_file)\n",
    "estate.info()\n",
    "estate.shape\n"
   ]
  },
  {
   "cell_type": "code",
   "execution_count": 2,
   "metadata": {},
   "outputs": [
    {
     "data": {
      "text/html": [
       "<div>\n",
       "<style scoped>\n",
       "    .dataframe tbody tr th:only-of-type {\n",
       "        vertical-align: middle;\n",
       "    }\n",
       "\n",
       "    .dataframe tbody tr th {\n",
       "        vertical-align: top;\n",
       "    }\n",
       "\n",
       "    .dataframe thead th {\n",
       "        text-align: right;\n",
       "    }\n",
       "</style>\n",
       "<table border=\"1\" class=\"dataframe\">\n",
       "  <thead>\n",
       "    <tr style=\"text-align: right;\">\n",
       "      <th></th>\n",
       "      <th>Parcel ID</th>\n",
       "      <th>Property Address</th>\n",
       "      <th>Street Number</th>\n",
       "      <th>Street Direction</th>\n",
       "      <th>Street Name</th>\n",
       "      <th>Street Type</th>\n",
       "      <th>Unit Number</th>\n",
       "      <th>Heated Area</th>\n",
       "      <th>Bedrooms</th>\n",
       "      <th>Bathrooms</th>\n",
       "      <th>...</th>\n",
       "      <th>Buyer(s)</th>\n",
       "      <th>Seller(s)</th>\n",
       "      <th>Sale Amount</th>\n",
       "      <th>SaleDescriptionCode</th>\n",
       "      <th>SaleDescription</th>\n",
       "      <th>Average Year Built</th>\n",
       "      <th>Date of Sale</th>\n",
       "      <th>Property Use Code</th>\n",
       "      <th>Number of Buildings</th>\n",
       "      <th>Property Use Type</th>\n",
       "    </tr>\n",
       "  </thead>\n",
       "  <tbody>\n",
       "    <tr>\n",
       "      <th>0</th>\n",
       "      <td>29-23-27-7800-00-240</td>\n",
       "      <td>7668  TANGERINE KNOLL LOOP</td>\n",
       "      <td>7668</td>\n",
       "      <td>NaN</td>\n",
       "      <td>TANGERINE KNOLL</td>\n",
       "      <td>LOOP</td>\n",
       "      <td>NaN</td>\n",
       "      <td>2683</td>\n",
       "      <td>4</td>\n",
       "      <td>3.0</td>\n",
       "      <td>...</td>\n",
       "      <td>DREAM FINDERS HOMES LLC</td>\n",
       "      <td>HM7 JV OWNER LLC</td>\n",
       "      <td>52200</td>\n",
       "      <td>5</td>\n",
       "      <td>SALE QUALIFIED BUT INVOLVED MULTIPLE PARCELS</td>\n",
       "      <td>2018</td>\n",
       "      <td>9/18/2017 12:00:00 AM</td>\n",
       "      <td>103</td>\n",
       "      <td>1</td>\n",
       "      <td>SINGLE FAMILY CLASS III</td>\n",
       "    </tr>\n",
       "    <tr>\n",
       "      <th>1</th>\n",
       "      <td>16-23-27-5852-03-970</td>\n",
       "      <td>14567  MAGNOLIA RIDGE LOOP</td>\n",
       "      <td>14567</td>\n",
       "      <td>NaN</td>\n",
       "      <td>MAGNOLIA RIDGE</td>\n",
       "      <td>LOOP</td>\n",
       "      <td>NaN</td>\n",
       "      <td>2882</td>\n",
       "      <td>4</td>\n",
       "      <td>3.0</td>\n",
       "      <td>...</td>\n",
       "      <td>CROFT JONATHAN\\nCROFT MEGAN</td>\n",
       "      <td>CALATLANTIC GROUP INC</td>\n",
       "      <td>366700</td>\n",
       "      <td>1</td>\n",
       "      <td>SALE QUALIFIED AS RESULT OF DEED EXAMINATION</td>\n",
       "      <td>2016</td>\n",
       "      <td>4/21/2017 12:00:00 AM</td>\n",
       "      <td>103</td>\n",
       "      <td>1</td>\n",
       "      <td>SINGLE FAMILY CLASS III</td>\n",
       "    </tr>\n",
       "    <tr>\n",
       "      <th>2</th>\n",
       "      <td>33-23-27-8300-00-380</td>\n",
       "      <td>15415  MURCOTT HARVEST LOOP</td>\n",
       "      <td>15415</td>\n",
       "      <td>NaN</td>\n",
       "      <td>MURCOTT HARVEST</td>\n",
       "      <td>LOOP</td>\n",
       "      <td>NaN</td>\n",
       "      <td>1860</td>\n",
       "      <td>3</td>\n",
       "      <td>2.0</td>\n",
       "      <td>...</td>\n",
       "      <td>GARCIA MARIANGELES</td>\n",
       "      <td>M/I HOMES OF ORLANDO LLC</td>\n",
       "      <td>303000</td>\n",
       "      <td>1</td>\n",
       "      <td>SALE QUALIFIED AS RESULT OF DEED EXAMINATION</td>\n",
       "      <td>2018</td>\n",
       "      <td>7/30/2018 12:00:00 AM</td>\n",
       "      <td>103</td>\n",
       "      <td>1</td>\n",
       "      <td>SINGLE FAMILY CLASS III</td>\n",
       "    </tr>\n",
       "    <tr>\n",
       "      <th>3</th>\n",
       "      <td>29-23-27-7800-00-520</td>\n",
       "      <td>7407  POMELO GROVE DR</td>\n",
       "      <td>7407</td>\n",
       "      <td>NaN</td>\n",
       "      <td>POMELO GROVE</td>\n",
       "      <td>DR</td>\n",
       "      <td>NaN</td>\n",
       "      <td>2696</td>\n",
       "      <td>4</td>\n",
       "      <td>3.0</td>\n",
       "      <td>...</td>\n",
       "      <td>DIAMOND ALAN\\nDIAMOND MELANIE</td>\n",
       "      <td>CLAIBORNE SCOTT ALAN\\nCLAIBORNE RENEE TRUDEAU</td>\n",
       "      <td>450000</td>\n",
       "      <td>1</td>\n",
       "      <td>SALE QUALIFIED AS RESULT OF DEED EXAMINATION</td>\n",
       "      <td>2018</td>\n",
       "      <td>3/22/2019 12:00:00 AM</td>\n",
       "      <td>103</td>\n",
       "      <td>1</td>\n",
       "      <td>SINGLE FAMILY CLASS III</td>\n",
       "    </tr>\n",
       "    <tr>\n",
       "      <th>4</th>\n",
       "      <td>28-23-27-9163-02-440</td>\n",
       "      <td>14283  COLONIAL POINTE DR</td>\n",
       "      <td>14283</td>\n",
       "      <td>NaN</td>\n",
       "      <td>COLONIAL POINTE</td>\n",
       "      <td>DR</td>\n",
       "      <td>NaN</td>\n",
       "      <td>3985</td>\n",
       "      <td>4</td>\n",
       "      <td>3.5</td>\n",
       "      <td>...</td>\n",
       "      <td>HARTUNG JULIE\\nDAILEY WHITNEY</td>\n",
       "      <td>TAYLOR MORRISON OF FLORIDA INC</td>\n",
       "      <td>557100</td>\n",
       "      <td>1</td>\n",
       "      <td>SALE QUALIFIED AS RESULT OF DEED EXAMINATION</td>\n",
       "      <td>2018</td>\n",
       "      <td>1/24/2018 12:00:00 AM</td>\n",
       "      <td>103</td>\n",
       "      <td>1</td>\n",
       "      <td>SINGLE FAMILY CLASS III</td>\n",
       "    </tr>\n",
       "  </tbody>\n",
       "</table>\n",
       "<p>5 rows × 31 columns</p>\n",
       "</div>"
      ],
      "text/plain": [
       "              Parcel ID             Property Address  Street Number  \\\n",
       "0  29-23-27-7800-00-240   7668  TANGERINE KNOLL LOOP           7668   \n",
       "1  16-23-27-5852-03-970   14567  MAGNOLIA RIDGE LOOP          14567   \n",
       "2  33-23-27-8300-00-380  15415  MURCOTT HARVEST LOOP          15415   \n",
       "3  29-23-27-7800-00-520        7407  POMELO GROVE DR           7407   \n",
       "4  28-23-27-9163-02-440    14283  COLONIAL POINTE DR          14283   \n",
       "\n",
       "  Street Direction      Street Name Street Type  Unit Number  Heated Area  \\\n",
       "0              NaN  TANGERINE KNOLL        LOOP          NaN         2683   \n",
       "1              NaN   MAGNOLIA RIDGE        LOOP          NaN         2882   \n",
       "2              NaN  MURCOTT HARVEST        LOOP          NaN         1860   \n",
       "3              NaN     POMELO GROVE          DR          NaN         2696   \n",
       "4              NaN  COLONIAL POINTE          DR          NaN         3985   \n",
       "\n",
       "   Bedrooms  Bathrooms  ...                       Buyer(s)  \\\n",
       "0         4        3.0  ...        DREAM FINDERS HOMES LLC   \n",
       "1         4        3.0  ...    CROFT JONATHAN\\nCROFT MEGAN   \n",
       "2         3        2.0  ...             GARCIA MARIANGELES   \n",
       "3         4        3.0  ...  DIAMOND ALAN\\nDIAMOND MELANIE   \n",
       "4         4        3.5  ...  HARTUNG JULIE\\nDAILEY WHITNEY   \n",
       "\n",
       "                                       Seller(s)  Sale Amount  \\\n",
       "0                               HM7 JV OWNER LLC        52200   \n",
       "1                          CALATLANTIC GROUP INC       366700   \n",
       "2                       M/I HOMES OF ORLANDO LLC       303000   \n",
       "3  CLAIBORNE SCOTT ALAN\\nCLAIBORNE RENEE TRUDEAU       450000   \n",
       "4                 TAYLOR MORRISON OF FLORIDA INC       557100   \n",
       "\n",
       "   SaleDescriptionCode                               SaleDescription  \\\n",
       "0                    5  SALE QUALIFIED BUT INVOLVED MULTIPLE PARCELS   \n",
       "1                    1  SALE QUALIFIED AS RESULT OF DEED EXAMINATION   \n",
       "2                    1  SALE QUALIFIED AS RESULT OF DEED EXAMINATION   \n",
       "3                    1  SALE QUALIFIED AS RESULT OF DEED EXAMINATION   \n",
       "4                    1  SALE QUALIFIED AS RESULT OF DEED EXAMINATION   \n",
       "\n",
       "  Average Year Built           Date of Sale Property Use Code  \\\n",
       "0               2018  9/18/2017 12:00:00 AM               103   \n",
       "1               2016  4/21/2017 12:00:00 AM               103   \n",
       "2               2018  7/30/2018 12:00:00 AM               103   \n",
       "3               2018  3/22/2019 12:00:00 AM               103   \n",
       "4               2018  1/24/2018 12:00:00 AM               103   \n",
       "\n",
       "  Number of Buildings        Property Use Type  \n",
       "0                   1  SINGLE FAMILY CLASS III  \n",
       "1                   1  SINGLE FAMILY CLASS III  \n",
       "2                   1  SINGLE FAMILY CLASS III  \n",
       "3                   1  SINGLE FAMILY CLASS III  \n",
       "4                   1  SINGLE FAMILY CLASS III  \n",
       "\n",
       "[5 rows x 31 columns]"
      ]
     },
     "execution_count": 2,
     "metadata": {},
     "output_type": "execute_result"
    }
   ],
   "source": [
    "estate.columns\n",
    "estate.head()\n"
   ]
  },
  {
   "cell_type": "markdown",
   "metadata": {},
   "source": [
    "# Cleaning The Data\n",
    "\n",
    "From evaluating a sample of the data (above), we can safely eliminate the following columns:\n",
    "Parcel ID, Street Number, Street Direction, Street Name, Street Type, Unit Number (these are all redundant, with the property address column). We can also eliminate the buyer and seller data, as we do not need this information for our purposes. We can eliminate the sales Description Code and Sales Description columns, the number of buildings and the Property use type. \n",
    "\n",
    "We will also change the name of Heated Area to square footage, and change the date of sale to date/time type for ease of data examination."
   ]
  },
  {
   "cell_type": "code",
   "execution_count": 3,
   "metadata": {},
   "outputs": [
    {
     "name": "stdout",
     "output_type": "stream",
     "text": [
      "<class 'pandas.core.frame.DataFrame'>\n",
      "Int64Index: 10336 entries, 6335 to 6244\n",
      "Data columns (total 7 columns):\n",
      "property_address    10336 non-null object\n",
      "square_footage      10336 non-null int64\n",
      "bedrooms            10336 non-null int64\n",
      "bathrooms           10336 non-null float64\n",
      "sale_amount         10336 non-null int64\n",
      "year_built          10336 non-null int64\n",
      "sale_date           10336 non-null datetime64[ns]\n",
      "dtypes: datetime64[ns](1), float64(1), int64(4), object(1)\n",
      "memory usage: 646.0+ KB\n"
     ]
    },
    {
     "data": {
      "text/html": [
       "<div>\n",
       "<style scoped>\n",
       "    .dataframe tbody tr th:only-of-type {\n",
       "        vertical-align: middle;\n",
       "    }\n",
       "\n",
       "    .dataframe tbody tr th {\n",
       "        vertical-align: top;\n",
       "    }\n",
       "\n",
       "    .dataframe thead th {\n",
       "        text-align: right;\n",
       "    }\n",
       "</style>\n",
       "<table border=\"1\" class=\"dataframe\">\n",
       "  <thead>\n",
       "    <tr style=\"text-align: right;\">\n",
       "      <th></th>\n",
       "      <th>property_address</th>\n",
       "      <th>square_footage</th>\n",
       "      <th>bedrooms</th>\n",
       "      <th>bathrooms</th>\n",
       "      <th>sale_amount</th>\n",
       "      <th>year_built</th>\n",
       "      <th>sale_date</th>\n",
       "    </tr>\n",
       "  </thead>\n",
       "  <tbody>\n",
       "    <tr>\n",
       "      <th>6335</th>\n",
       "      <td>15532  AVENUE OF THE ARBORS</td>\n",
       "      <td>3943</td>\n",
       "      <td>5</td>\n",
       "      <td>4.5</td>\n",
       "      <td>699900</td>\n",
       "      <td>2016</td>\n",
       "      <td>2016-12-10</td>\n",
       "    </tr>\n",
       "    <tr>\n",
       "      <th>5238</th>\n",
       "      <td>14912  PORTER RD</td>\n",
       "      <td>1708</td>\n",
       "      <td>3</td>\n",
       "      <td>2.0</td>\n",
       "      <td>50000</td>\n",
       "      <td>2017</td>\n",
       "      <td>2016-12-12</td>\n",
       "    </tr>\n",
       "    <tr>\n",
       "      <th>5712</th>\n",
       "      <td>14928  PORTER RD</td>\n",
       "      <td>2328</td>\n",
       "      <td>3</td>\n",
       "      <td>2.5</td>\n",
       "      <td>50000</td>\n",
       "      <td>2017</td>\n",
       "      <td>2016-12-12</td>\n",
       "    </tr>\n",
       "    <tr>\n",
       "      <th>307</th>\n",
       "      <td>7209  BEAKRUSH LN</td>\n",
       "      <td>2224</td>\n",
       "      <td>3</td>\n",
       "      <td>2.0</td>\n",
       "      <td>280000</td>\n",
       "      <td>2006</td>\n",
       "      <td>2016-12-12</td>\n",
       "    </tr>\n",
       "    <tr>\n",
       "      <th>4881</th>\n",
       "      <td>14920  PORTER RD</td>\n",
       "      <td>2004</td>\n",
       "      <td>3</td>\n",
       "      <td>2.5</td>\n",
       "      <td>50000</td>\n",
       "      <td>2017</td>\n",
       "      <td>2016-12-12</td>\n",
       "    </tr>\n",
       "  </tbody>\n",
       "</table>\n",
       "</div>"
      ],
      "text/plain": [
       "                 property_address  square_footage  bedrooms  bathrooms  \\\n",
       "6335  15532  AVENUE OF THE ARBORS            3943         5        4.5   \n",
       "5238             14912  PORTER RD            1708         3        2.0   \n",
       "5712             14928  PORTER RD            2328         3        2.5   \n",
       "307             7209  BEAKRUSH LN            2224         3        2.0   \n",
       "4881             14920  PORTER RD            2004         3        2.5   \n",
       "\n",
       "      sale_amount  year_built  sale_date  \n",
       "6335       699900        2016 2016-12-10  \n",
       "5238        50000        2017 2016-12-12  \n",
       "5712        50000        2017 2016-12-12  \n",
       "307        280000        2006 2016-12-12  \n",
       "4881        50000        2017 2016-12-12  "
      ]
     },
     "execution_count": 3,
     "metadata": {},
     "output_type": "execute_result"
    }
   ],
   "source": [
    "estate = estate.drop(['Parcel ID', 'Street Number', 'Street Direction', 'Street Name', 'Street Type', 'Unit Number', 'Buyer(s)', 'Seller(s)','SaleDescriptionCode', 'Property Use Code', 'Number of Buildings', 'Property Use Type','Mailing Address 1', 'Mailing Address 2', 'Mailing Address City', 'Mailing Address State', 'Mailing Address Zip', 'Mailing Address Country', 'SaleDescription', 'PID','Page','Instrument Number','Book','Link'], axis=1)\n",
    "estate.rename(columns ={'Heated Area':'square_footage', 'Property Address':'property_address','Bedrooms':'bedrooms','Bathrooms':'bathrooms','Sale Amount':'sale_amount','Average Year Built':'year_built','Date of Sale':'sale_date'},inplace=True)\n",
    "estate['sale_date'] = pd.to_datetime(estate['sale_date'])\n",
    "estate.sort_values(by=['sale_date'], inplace=True, ascending=True)\n",
    "estate.info()\n",
    "estate.head()"
   ]
  },
  {
   "cell_type": "markdown",
   "metadata": {},
   "source": [
    "In the above code we reduced the total number of columns to 7 (the most pertinent), and organized the data from oldest to newest.  "
   ]
  },
  {
   "cell_type": "code",
   "execution_count": 4,
   "metadata": {},
   "outputs": [
    {
     "data": {
      "text/plain": [
       "count     7586.000\n",
       "mean    334997.487\n",
       "std      74554.058\n",
       "min     150000.000\n",
       "25%     280800.000\n",
       "50%     328000.000\n",
       "75%     388475.000\n",
       "max     500000.000\n",
       "Name: sale_amount, dtype: float64"
      ]
     },
     "execution_count": 4,
     "metadata": {},
     "output_type": "execute_result"
    }
   ],
   "source": [
    "pd.set_option('display.float_format', lambda x: '%.3f' % x)\n",
    "estate.drop(estate[estate.sale_amount < 150000].index, inplace = True)\n",
    "estate.drop(estate[estate.sale_amount > 500000].index, inplace = True)\n",
    "estate['sale_amount'].describe()\n"
   ]
  },
  {
   "cell_type": "markdown",
   "metadata": {},
   "source": [
    "In the above code, we eliminate any sales that total less than 150,000, since these sales are not representative of  common housing prices in the central Florida area. these sales are likely to be either Foreclosures or family to family sales. Additionally, we elimated any sales prices greater than 500,000, as this number is greatly outside our range and will likely skew the dataset. \n",
    "\n",
    "Now that we have the sales price data cleaned to a point that will be representative of our desired range, we can turn our attention to the square footage data. "
   ]
  },
  {
   "cell_type": "code",
   "execution_count": 5,
   "metadata": {},
   "outputs": [
    {
     "data": {
      "text/plain": [
       "count   7586.000\n",
       "mean    2391.266\n",
       "std      651.125\n",
       "min      618.000\n",
       "25%     1902.000\n",
       "50%     2224.000\n",
       "75%     2793.000\n",
       "max     6325.000\n",
       "Name: square_footage, dtype: float64"
      ]
     },
     "execution_count": 5,
     "metadata": {},
     "output_type": "execute_result"
    }
   ],
   "source": [
    "estate['square_footage'].describe()\n"
   ]
  },
  {
   "cell_type": "markdown",
   "metadata": {},
   "source": [
    "As you can see, there appears to be a very wide range of values for the square footage column, with a minimum being 651 and a max of 6325. Below we will explore this column in an attempt to ferret out the cause of this wide range. "
   ]
  },
  {
   "cell_type": "code",
   "execution_count": 6,
   "metadata": {},
   "outputs": [
    {
     "data": {
      "text/plain": [
       "count   6190.000\n",
       "mean    2565.305\n",
       "std      591.610\n",
       "min     1801.000\n",
       "25%     2089.000\n",
       "50%     2464.000\n",
       "75%     2922.000\n",
       "max     6325.000\n",
       "Name: square_footage, dtype: float64"
      ]
     },
     "execution_count": 6,
     "metadata": {},
     "output_type": "execute_result"
    }
   ],
   "source": [
    "estate.drop(estate[estate.square_footage < 1800].index, inplace=True)\n",
    "\n",
    "# estate.loc[estate['square_footage'] == 1801]\n",
    "estate['square_footage'].describe()"
   ]
  },
  {
   "cell_type": "markdown",
   "metadata": {},
   "source": [
    "Through exploration we identified that the lower square footage values were from homes that were built in the 50's and 60's. This indicates that the homes were likely built for the property value to make way for development. \n",
    "\n",
    "Additionally, the low square footage is well below the threshold for what our family would need. Thus, I have eliminated any properties with square footage less than 1800. This leaves a total count of 6190 properties to evaluate with the min, max and mean as listed above. "
   ]
  },
  {
   "cell_type": "markdown",
   "metadata": {},
   "source": [
    "In the cell above, you can see the breakdown of price per square foot for the entire data set. This indicates a mean cost of $140 per square foot"
   ]
  },
  {
   "cell_type": "code",
   "execution_count": 7,
   "metadata": {},
   "outputs": [
    {
     "data": {
      "text/plain": [
       "(123, 7)"
      ]
     },
     "execution_count": 7,
     "metadata": {},
     "output_type": "execute_result"
    }
   ],
   "source": [
    "start_date = '2016-01-01'\n",
    "end_date = '2016-12-31'\n",
    "values_2016 = (estate['sale_date'] >= start_date)&(estate['sale_date'] <= end_date)\n",
    "all_2016 = estate.loc[values_2016]\n",
    "all_2016.shape"
   ]
  },
  {
   "cell_type": "code",
   "execution_count": 8,
   "metadata": {},
   "outputs": [
    {
     "data": {
      "text/plain": [
       "(2315, 7)"
      ]
     },
     "execution_count": 8,
     "metadata": {},
     "output_type": "execute_result"
    }
   ],
   "source": [
    "start_17 = '2017-01-01'\n",
    "end_17 = '2017-12-31'\n",
    "values_2017 = (estate['sale_date']>= start_17)&(estate['sale_date']<= end_17)\n",
    "all_2017 = estate.loc[values_2017]\n",
    "all_2017.shape"
   ]
  },
  {
   "cell_type": "code",
   "execution_count": 9,
   "metadata": {},
   "outputs": [
    {
     "data": {
      "text/plain": [
       "(2202, 7)"
      ]
     },
     "execution_count": 9,
     "metadata": {},
     "output_type": "execute_result"
    }
   ],
   "source": [
    "start_18 = '2018-01-01'\n",
    "end_18 = '2018-12-31'\n",
    "values_2018 = (estate['sale_date']>= start_18)&(estate['sale_date']<= end_18)\n",
    "all_2018 = estate.loc[values_2018]\n",
    "all_2018.shape"
   ]
  },
  {
   "cell_type": "code",
   "execution_count": 10,
   "metadata": {},
   "outputs": [
    {
     "data": {
      "text/plain": [
       "(1550, 7)"
      ]
     },
     "execution_count": 10,
     "metadata": {},
     "output_type": "execute_result"
    }
   ],
   "source": [
    "start_19 = '2019-01-01'\n",
    "end_19 = '2019-12-31'\n",
    "values_2019 = (estate['sale_date']>= start_19)&(estate['sale_date']<= end_19)\n",
    "all_2019 = estate.loc[values_2019]\n",
    "all_2019.shape"
   ]
  },
  {
   "cell_type": "markdown",
   "metadata": {},
   "source": [
    "In the above blocks of code, we have created alternative datasets classified by year for years 2016-2019. \n",
    "\n",
    "We now have datasets that have been cleaned to include:\n",
    "\n",
    "individual years\n",
    "\n",
    "price greater than 150000 to eliminate errant purchases\n",
    "\n",
    "square footage greater than 1800 to ensure we are only looking at data that is pertinent to us"
   ]
  },
  {
   "cell_type": "markdown",
   "metadata": {},
   "source": [
    "# Evaluating the data:\n",
    "\n",
    "In the space below we will begin to evaluate the data to find patterns. We can first start by examining an industry standard. The price per square foot. "
   ]
  },
  {
   "cell_type": "code",
   "execution_count": 11,
   "metadata": {},
   "outputs": [
    {
     "name": "stdout",
     "output_type": "stream",
     "text": [
      "cummulative price per square foot = count   6190.000\n",
      "mean     140.848\n",
      "std       23.860\n",
      "min       37.790\n",
      "25%      128.466\n",
      "50%      141.922\n",
      "75%      154.935\n",
      "max      244.368\n",
      "dtype: float64\n",
      "\n",
      "2016 price per square foot = count   123.000\n",
      "mean    136.111\n",
      "std      23.624\n",
      "min      50.617\n",
      "25%     123.892\n",
      "50%     134.159\n",
      "75%     145.241\n",
      "max     244.368\n",
      "dtype: float64\n",
      "\n",
      "2017 price per square foot = count   2315.000\n",
      "mean     130.744\n",
      "std       26.072\n",
      "min       37.790\n",
      "25%      119.619\n",
      "50%      133.638\n",
      "75%      146.314\n",
      "max      218.738\n",
      "dtype: float64\n",
      "\n",
      "2018 price per sqare foot = count   2202.000\n",
      "mean     144.498\n",
      "std       19.963\n",
      "min       39.672\n",
      "25%      131.588\n",
      "50%      144.006\n",
      "75%      156.483\n",
      "max      220.292\n",
      "dtype: float64\n",
      "\n",
      "2019 price per square foot = count   1550.000\n",
      "mean     151.128\n",
      "std       19.237\n",
      "min       56.675\n",
      "25%      138.907\n",
      "50%      151.198\n",
      "75%      163.139\n",
      "max      235.031\n",
      "dtype: float64\n"
     ]
    }
   ],
   "source": [
    "per_square_foot = estate['sale_amount'] / estate['square_footage']\n",
    "per_sq_ft_2016 = all_2016['sale_amount']/all_2016['square_footage']\n",
    "per_sq_ft_2017 = all_2017['sale_amount']/all_2017['square_footage']\n",
    "per_sq_ft_2018 = all_2018['sale_amount']/all_2018['square_footage']\n",
    "per_sq_ft_2019 = all_2019['sale_amount']/all_2019['square_footage']\n",
    "print('cummulative price per square foot = {}'.format(per_square_foot.describe()))\n",
    "print('')\n",
    "print('2016 price per square foot = {}'.format(per_sq_ft_2016.describe()))\n",
    "print('')\n",
    "print('2017 price per square foot = {}'.format(per_sq_ft_2017.describe()))\n",
    "print('')\n",
    "print('2018 price per sqare foot = {}'.format(per_sq_ft_2018.describe()))\n",
    "print('')\n",
    "print('2019 price per square foot = {}'.format(per_sq_ft_2019.describe()))"
   ]
  },
  {
   "cell_type": "markdown",
   "metadata": {},
   "source": [
    "# TO DO:\n",
    "create visuals representing:\n",
    "\n",
    "\n",
    "overall growth of property sales value over time\n",
    "\n",
    "\n",
    "growth year over year by price per square foot\n",
    "\n",
    "\n",
    "growth year over year by bedrooms\n",
    "\n",
    "\n",
    "growth year over year by bathrooms\n",
    "\n"
   ]
  }
 ],
 "metadata": {
  "kernelspec": {
   "display_name": "Python 3",
   "language": "python",
   "name": "python3"
  },
  "language_info": {
   "codemirror_mode": {
    "name": "ipython",
    "version": 3
   },
   "file_extension": ".py",
   "mimetype": "text/x-python",
   "name": "python",
   "nbconvert_exporter": "python",
   "pygments_lexer": "ipython3",
   "version": "3.7.5"
  }
 },
 "nbformat": 4,
 "nbformat_minor": 2
}
